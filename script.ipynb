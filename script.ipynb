{
 "cells": [
  {
   "cell_type": "code",
   "execution_count": 24,
   "metadata": {},
   "outputs": [],
   "source": [
    "import pandas as pd"
   ]
  },
  {
   "cell_type": "code",
   "execution_count": 25,
   "metadata": {},
   "outputs": [
    {
     "data": {
      "text/plain": [
       "(80332, 9)"
      ]
     },
     "execution_count": 25,
     "metadata": {},
     "output_type": "execute_result"
    }
   ],
   "source": [
    "data = pd.read_csv('ufo_sightings.csv')\n",
    "data = data.drop(columns=[\"description\", \"described_encounter_length\"])\n",
    "data.shape"
   ]
  },
  {
   "cell_type": "code",
   "execution_count": 26,
   "metadata": {},
   "outputs": [
    {
     "data": {
      "text/plain": [
       "(66524, 9)"
      ]
     },
     "execution_count": 26,
     "metadata": {},
     "output_type": "execute_result"
    }
   ],
   "source": [
    "data = data.dropna()\n",
    "data.shape"
   ]
  },
  {
   "cell_type": "code",
   "execution_count": 27,
   "metadata": {},
   "outputs": [
    {
     "data": {
      "text/plain": [
       "(63561, 8)"
      ]
     },
     "execution_count": 27,
     "metadata": {},
     "output_type": "execute_result"
    }
   ],
   "source": [
    "data = data[data[\"country\"] == \"us\"]\n",
    "data = data.drop(columns = \"country\")\n",
    "data.shape"
   ]
  },
  {
   "cell_type": "code",
   "execution_count": 28,
   "metadata": {},
   "outputs": [
    {
     "data": {
      "text/plain": [
       "(58994, 8)"
      ]
     },
     "execution_count": 28,
     "metadata": {},
     "output_type": "execute_result"
    }
   ],
   "source": [
    "data = data[data[\"ufo_shape\"] != \"unknown\"]\n",
    "data.shape"
   ]
  },
  {
   "cell_type": "code",
   "execution_count": 29,
   "metadata": {},
   "outputs": [
    {
     "data": {
      "text/html": [
       "<div>\n",
       "<style scoped>\n",
       "    .dataframe tbody tr th:only-of-type {\n",
       "        vertical-align: middle;\n",
       "    }\n",
       "\n",
       "    .dataframe tbody tr th {\n",
       "        vertical-align: top;\n",
       "    }\n",
       "\n",
       "    .dataframe thead th {\n",
       "        text-align: right;\n",
       "    }\n",
       "</style>\n",
       "<table border=\"1\" class=\"dataframe\">\n",
       "  <thead>\n",
       "    <tr style=\"text-align: right;\">\n",
       "      <th></th>\n",
       "      <th>date_time</th>\n",
       "      <th>city_area</th>\n",
       "      <th>state</th>\n",
       "      <th>ufo_shape</th>\n",
       "      <th>encounter_length</th>\n",
       "      <th>date_documented</th>\n",
       "      <th>latitude</th>\n",
       "      <th>longitude</th>\n",
       "    </tr>\n",
       "  </thead>\n",
       "  <tbody>\n",
       "    <tr>\n",
       "      <th>40062</th>\n",
       "      <td>4/3/2010 11:16</td>\n",
       "      <td>monterey</td>\n",
       "      <td>ca</td>\n",
       "      <td>egg</td>\n",
       "      <td>10.0</td>\n",
       "      <td>4/13/2010</td>\n",
       "      <td>36.600278</td>\n",
       "      <td>-121.893611</td>\n",
       "    </tr>\n",
       "    <tr>\n",
       "      <th>13519</th>\n",
       "      <td>11/28/2010 22:59</td>\n",
       "      <td>sacramento</td>\n",
       "      <td>ca</td>\n",
       "      <td>oval</td>\n",
       "      <td>45.0</td>\n",
       "      <td>1/5/2011</td>\n",
       "      <td>38.581667</td>\n",
       "      <td>-121.493333</td>\n",
       "    </tr>\n",
       "    <tr>\n",
       "      <th>33941</th>\n",
       "      <td>3/28/2013 21:00</td>\n",
       "      <td>studio city</td>\n",
       "      <td>ca</td>\n",
       "      <td>cylinder</td>\n",
       "      <td>300.0</td>\n",
       "      <td>5/15/2013</td>\n",
       "      <td>34.148611</td>\n",
       "      <td>-118.395556</td>\n",
       "    </tr>\n",
       "    <tr>\n",
       "      <th>52579</th>\n",
       "      <td>6/29/2013 22:30</td>\n",
       "      <td>river falls</td>\n",
       "      <td>wi</td>\n",
       "      <td>light</td>\n",
       "      <td>1200.0</td>\n",
       "      <td>7/22/2013</td>\n",
       "      <td>44.861389</td>\n",
       "      <td>-92.623611</td>\n",
       "    </tr>\n",
       "    <tr>\n",
       "      <th>38445</th>\n",
       "      <td>4/22/2000 23:15</td>\n",
       "      <td>lake charles</td>\n",
       "      <td>la</td>\n",
       "      <td>triangle</td>\n",
       "      <td>600.0</td>\n",
       "      <td>4/26/2000</td>\n",
       "      <td>30.226389</td>\n",
       "      <td>-93.217222</td>\n",
       "    </tr>\n",
       "  </tbody>\n",
       "</table>\n",
       "</div>"
      ],
      "text/plain": [
       "              date_time     city_area state ufo_shape  encounter_length  \\\n",
       "40062    4/3/2010 11:16      monterey    ca       egg              10.0   \n",
       "13519  11/28/2010 22:59    sacramento    ca      oval              45.0   \n",
       "33941   3/28/2013 21:00   studio city    ca  cylinder             300.0   \n",
       "52579   6/29/2013 22:30   river falls    wi     light            1200.0   \n",
       "38445   4/22/2000 23:15  lake charles    la  triangle             600.0   \n",
       "\n",
       "      date_documented   latitude   longitude  \n",
       "40062       4/13/2010  36.600278 -121.893611  \n",
       "13519        1/5/2011  38.581667 -121.493333  \n",
       "33941       5/15/2013  34.148611 -118.395556  \n",
       "52579       7/22/2013  44.861389  -92.623611  \n",
       "38445       4/26/2000  30.226389  -93.217222  "
      ]
     },
     "execution_count": 29,
     "metadata": {},
     "output_type": "execute_result"
    }
   ],
   "source": [
    "data = data.sample(n = 5000)\n",
    "data.head()"
   ]
  },
  {
   "cell_type": "code",
   "execution_count": 30,
   "metadata": {},
   "outputs": [],
   "source": [
    "# data[\"date_time\"] = pd.to_datetime(data['date_time'], format='%-d/%-m/%Y %H:%M')\n",
    "\n",
    "def format_date_str(date_str):\n",
    "    date, time = date_str.split(\" \")\n",
    "    day, month, year = list(map(int, date.split(\"/\")))\n",
    "    return f\"{day:02d}-{month:02d}-{year:04d}\"\n",
    "\n",
    "data[\"date\"] = data[\"date_time\"].apply(lambda date_str: format_date_str(date_str))\n",
    "data = data.drop(columns = \"date_time\")\n",
    "\n"
   ]
  },
  {
   "cell_type": "code",
   "execution_count": 31,
   "metadata": {},
   "outputs": [],
   "source": [
    "data.to_csv(\"ufo_filtered.csv\", index=False)"
   ]
  },
  {
   "cell_type": "code",
   "execution_count": null,
   "metadata": {},
   "outputs": [],
   "source": []
  }
 ],
 "metadata": {
  "kernelspec": {
   "display_name": "Python 3 (ipykernel)",
   "language": "python",
   "name": "python3"
  },
  "language_info": {
   "codemirror_mode": {
    "name": "ipython",
    "version": 3
   },
   "file_extension": ".py",
   "mimetype": "text/x-python",
   "name": "python",
   "nbconvert_exporter": "python",
   "pygments_lexer": "ipython3",
   "version": "3.11.2"
  }
 },
 "nbformat": 4,
 "nbformat_minor": 2
}
